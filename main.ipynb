{
 "cells": [
  {
   "cell_type": "code",
   "execution_count": 1,
   "metadata": {},
   "outputs": [
    {
     "name": "stdout",
     "output_type": "stream",
     "text": [
      "2023-08-10 12:14:47,181 (DEBUG): Welcome to IPS - the Interatomic Potential Suite!\n"
     ]
    }
   ],
   "source": [
    "import ipsuite as ips\n",
    "from src import ReadNPZ"
   ]
  },
  {
   "cell_type": "code",
   "execution_count": 2,
   "metadata": {},
   "outputs": [
    {
     "name": "stderr",
     "output_type": "stream",
     "text": [
      "Running DVC command: 'stage add --name ReadNPZ --force ...'\n",
      "Running DVC command: 'stage add --name ReadNPZ_1 --force ...'\n",
      "Running DVC command: 'stage add --name MLModel --force ...'\n",
      "Running DVC command: 'stage add --name Prediction --force ...'\n",
      "Running DVC command: 'stage add --name PredictionMetrics --force ...'\n"
     ]
    }
   ],
   "source": [
    "with ips.Project(automatic_node_names=True) as project:\n",
    "    train_data = ReadNPZ(directory=\"data\", regex=\"4comp.cfg_train_0\")\n",
    "    valid_data = ReadNPZ(directory=\"data\", regex=\"4comp.cfg_valid_0\")\n",
    "\n",
    "    model = ips.models.MACE(data=train_data, test_data=valid_data)\n",
    "\n",
    "    predictions = ips.analysis.Prediction(data=valid_data, model=model)\n",
    "    analysis = ips.analysis.PredictionMetrics(data=predictions)\n",
    "\n",
    "project.build()"
   ]
  },
  {
   "cell_type": "code",
   "execution_count": null,
   "metadata": {},
   "outputs": [],
   "source": []
  }
 ],
 "metadata": {
  "kernelspec": {
   "display_name": "ipsuite",
   "language": "python",
   "name": "python3"
  },
  "language_info": {
   "codemirror_mode": {
    "name": "ipython",
    "version": 3
   },
   "file_extension": ".py",
   "mimetype": "text/x-python",
   "name": "python",
   "nbconvert_exporter": "python",
   "pygments_lexer": "ipython3",
   "version": "3.10.11"
  },
  "orig_nbformat": 4
 },
 "nbformat": 4,
 "nbformat_minor": 2
}
